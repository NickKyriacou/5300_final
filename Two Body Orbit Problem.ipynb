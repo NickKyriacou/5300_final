{
 "cells": [
  {
   "cell_type": "markdown",
   "metadata": {},
   "source": [
    "# Simple pendulum using Lagrange's equation\n",
    "\n",
    "Defines a Lagrangian Gravitational Two Body Orbit class that is used to generate basic orbits plots from solving Lagrange's equations.\n",
    "\n",
    "* Last revised April-17-2019 by Nick Kyriacou (kyriacou.2@osu.edu)."
   ]
  },
  {
   "cell_type": "markdown",
   "metadata": {},
   "source": [
    "## Euler-Lagrange equation\n",
    "\n",
    "For a simple pendulum, the Lagrangian with generalized coordinate $x_1$ , $y_1$ ,$x_2$ , and $y_2$ is\n",
    "\n",
    "$\\begin{align}\n",
    "  \\mathcal{L} = \\frac12 m_1 ( \\dot x_1^2 + \\dot y_1^2 ) + \\frac12 m_2 ( \\dot x_2^2 + \\dot y_2^2 ) +  \\frac{G m_1 m_2}{r}\n",
    "\\end{align}$\n",
    "\n",
    "Where r is defined as\n",
    "\n",
    "$\\begin{align}\n",
    "  \\mathcal{r} = \\sqrt{(x_1 - x_2)^2 + (y_1 - y_2)^2}\n",
    "\\end{align}$\n",
    "\n",
    "The Euler-Lagrange relation gives a system of 4 equations which are given below\n",
    "\n",
    "$\\begin{align}\n",
    " \\frac{d}{dt}\\frac{\\partial\\mathcal{L}}{\\partial \\dot x_1} = \\frac{\\partial\\mathcal L}{\\partial x_1}\n",
    " \\quad\\Longrightarrow\\quad\n",
    " m_1 \\ddot x_1 =  \\frac{-G m_1 m_2 (x_1 - x_2)}{r^3}\n",
    "\\end{align}$\n",
    "\n",
    "$\\begin{align}\n",
    " \\frac{d}{dt}\\frac{\\partial\\mathcal{L}}{\\partial \\dot y_1} = \\frac{\\partial\\mathcal L}{\\partial y_1}\n",
    " \\quad\\Longrightarrow\\quad\n",
    " m_1 \\ddot y_1 =  \\frac{-G m_1 m_2 (y_1 - y_2)}{r^3}\n",
    "\\end{align}$\n",
    "\n",
    "$\\begin{align}\n",
    " \\frac{d}{dt}\\frac{\\partial\\mathcal{L}}{\\partial \\dot x_2} = \\frac{\\partial\\mathcal L}{\\partial x_2}\n",
    " \\quad\\Longrightarrow\\quad\n",
    " m_2 \\ddot  x_2 =  \\frac{-G m_1 m_2 (x_2 - x_1)}{r^3}\n",
    "\\end{align}$\n",
    "\n",
    "$\\begin{align}\n",
    " \\frac{d}{dt}\\frac{\\partial\\mathcal{L}}{\\partial \\dot y_2} = \\frac{\\partial\\mathcal L}{\\partial y_2}\n",
    " \\quad\\Longrightarrow\\quad\n",
    " m_2 \\ddot  y_2 =  \\frac{-G m_1 m_2 (y_2 - y_1)}{r^3}\n",
    "\\end{align}$"
   ]
  },
  {
   "cell_type": "code",
   "execution_count": 60,
   "metadata": {},
   "outputs": [],
   "source": [
    "%matplotlib inline"
   ]
  },
  {
   "cell_type": "code",
   "execution_count": 61,
   "metadata": {},
   "outputs": [],
   "source": [
    "import numpy as np\n",
    "from scipy.integrate import odeint, solve_ivp\n",
    "\n",
    "import matplotlib.pyplot as plt"
   ]
  },
  {
   "cell_type": "code",
   "execution_count": 62,
   "metadata": {},
   "outputs": [],
   "source": [
    "# The dpi (dots-per-inch) setting will affect the resolution and how large\n",
    "#  the plots appear on screen and printed.  So you may want/need to adjust \n",
    "#  the figsize when creating the figure.\n",
    "plt.rcParams['figure.dpi'] = 100.    # this is the default for notebook\n",
    "\n",
    "# Change the common font size (smaller when higher dpi)\n",
    "font_size = 10\n",
    "plt.rcParams.update({'font.size': font_size})"
   ]
  },
  {
   "cell_type": "markdown",
   "metadata": {},
   "source": [
    "## Pendulum class and utility functions"
   ]
  },
  {
   "cell_type": "code",
   "execution_count": 63,
   "metadata": {},
   "outputs": [],
   "source": [
    "class LagrangianTwoBody():\n",
    "    \"\"\"\n",
    "    LangrangianTwoBody class implements the parameters and Lagranges's equations for \n",
    "     a two body Orbit Problem.\n",
    "     \n",
    "    Parameters\n",
    "    ----------\n",
    "    m_1 and m_2: float\n",
    "        masses of each gravitational body\n",
    "    G : float\n",
    "        Newton's gravitational constant\n",
    "\n",
    "    Methods\n",
    "    -------\n",
    "    dy_dt(t, y)\n",
    "        Returns the right side of the differential equation in vector y, \n",
    "        given time t and the corresponding value of y.\n",
    "    \"\"\"\n",
    "    def __init__(self, G, m_1, m_2\n",
    "                ):\n",
    "        self.G = G\n",
    "        self.m_1 = m_1\n",
    "        self.m_2 = m_2\n",
    "    \n",
    "    def dy_dt(self, t, y):\n",
    "        \"\"\"\n",
    "        This function returns the right-hand side of the diffeq: \n",
    "        [dx_1/dt, d^2x_1/dt^2,dy_1/dt, d^2y_1/dt^2,dx_2/dt, d^2x_2/dt^2,dy_2/dt, d^2y_2/dt^2]\n",
    "        \n",
    "        Parameters\n",
    "        ----------\n",
    "        t : float\n",
    "            time \n",
    "        y : float\n",
    "            An 8-component vector with y[0] = x_1(t), y[1] = dx_1/dt, y[2] = y_1(t), y[3] = dy_1/dt\n",
    "                                       y[4] = x_2(t), y[5] = dx_2/dt, y[6] = y_2(t), y[7] = dy_2/dt\n",
    "            \n",
    "        Returns\n",
    "        -------\n",
    "        \n",
    "        \"\"\"\n",
    "        c_1 = self.m_1*self.G\n",
    "        c_2 = self.m_2*self.G\n",
    "        r = np.sqrt( (y[0]-y[4])**2 + (y[2]-y[6])**2 )\n",
    "        return [y[1],-c_2*(y[0] -y[4])/r**3 ,y[3],-c_2*(y[2] -y[6])/r**3,y[5],-c_1*(y[4] -y[0])/r**3,y[7],-c_1*(y[6] -y[2])/r**3]\n",
    "    \n",
    "    def solve_ode(self, t_pts,x_1_0, x_dot_1_0,y_1_0, y_dot_1_0,x_2_0, x_dot_2_0,y_2_0, y_dot_2_0, \n",
    "                  abserr=1.0e-9, relerr=1.0e-9):\n",
    "        \"\"\"\n",
    "        Solve the ODE given initial conditions.\n",
    "        Specify smaller abserr and relerr to get more precision.\n",
    "        \"\"\"\n",
    "        y = [x_1_0, x_dot_1_0,y_1_0, y_dot_1_0,x_2_0, x_dot_2_0,y_2_0, y_dot_2_0] \n",
    "        solution = solve_ivp(self.dy_dt, (t_pts[0], t_pts[-1]), \n",
    "                             y, t_eval=t_pts, \n",
    "                             atol=abserr, rtol=relerr)\n",
    "        x_1, x_1_dot,y_1,y_1_dot,x_2,x_2_dot,y_2,y_2_dot = solution.y\n",
    "\n",
    "        return x_1, x_1_dot,y_1,y_1_dot,x_2,x_2_dot,y_2,y_2_dot"
   ]
  },
  {
   "cell_type": "code",
   "execution_count": 64,
   "metadata": {},
   "outputs": [],
   "source": [
    "def plot_y_vs_x(x, y, axis_labels=None, label=None, title=None, \n",
    "                color=None, linestyle=None, semilogy=False, loglog=False,\n",
    "                ax=None):\n",
    "    \"\"\"\n",
    "    Generic plotting function: return a figure axis with a plot of y vs. x,\n",
    "    with line color and style, title, axis labels, and line label\n",
    "    \"\"\"\n",
    "    if ax is None:        # if the axis object doesn't exist, make one\n",
    "        ax = plt.gca()\n",
    "\n",
    "    if (semilogy):\n",
    "        line, = ax.semilogy(x, y, label=label, \n",
    "                            color=color, linestyle=linestyle)\n",
    "    elif (loglog):\n",
    "        line, = ax.loglog(x, y, label=label, \n",
    "                          color=color, linestyle=linestyle)\n",
    "    else:\n",
    "        line, = ax.plot(x, y, label=label, \n",
    "                    color=color, linestyle=linestyle)\n",
    "\n",
    "    if label is not None:    # if a label if passed, show the legend\n",
    "        ax.legend()\n",
    "    if title is not None:    # set a title if one if passed\n",
    "        ax.set_title(title)\n",
    "    if axis_labels is not None:  # set x-axis and y-axis labels if passed  \n",
    "        ax.set_xlabel(axis_labels[0])\n",
    "        ax.set_ylabel(axis_labels[1])\n",
    "\n",
    "    return ax, line"
   ]
  },
  {
   "cell_type": "code",
   "execution_count": 65,
   "metadata": {},
   "outputs": [],
   "source": [
    "def start_stop_indices(t_pts, plot_start, plot_stop):\n",
    "    start_index = (np.fabs(t_pts-plot_start)).argmin()  # index in t_pts array \n",
    "    stop_index = (np.fabs(t_pts-plot_stop)).argmin()  # index in t_pts array \n",
    "    return start_index, stop_index"
   ]
  },
  {
   "cell_type": "code",
   "execution_count": null,
   "metadata": {},
   "outputs": [],
   "source": []
  },
  {
   "cell_type": "markdown",
   "metadata": {},
   "source": [
    "## Make simple pendulum plots "
   ]
  },
  {
   "cell_type": "code",
   "execution_count": 66,
   "metadata": {
    "scrolled": false
   },
   "outputs": [],
   "source": [
    "# Labels for individual plot axes\n",
    "x_vs_y_labels = (r'$x$', r'$y$')\n",
    "\n",
    "\n",
    "# Common plotting time (generate the full time then use slices)\n",
    "t_start = 0.\n",
    "t_end = 100.\n",
    "delta_t = 0.001\n",
    "\n",
    "t_pts = np.arange(t_start, t_end+delta_t, delta_t)  \n",
    "#Initializes parameters of our system\n",
    "G = 1.\n",
    "m_1 = 1.\n",
    "m_2 = 1.\n",
    "\n",
    "# Instantiate an Orbit \n",
    "orbit1 = LagrangianTwoBody(G=G, m_1=m_1,m_2 = m_2)\n"
   ]
  },
  {
   "cell_type": "code",
   "execution_count": 67,
   "metadata": {},
   "outputs": [
    {
     "data": {
      "image/png": "[encoded data removed]",
      "text/plain": [
       "<Figure size 800x800 with 1 Axes>"
      ]
     },
     "metadata": {
      "needs_background": "light"
     },
     "output_type": "display_data"
    }
   ],
   "source": [
    "# both plots: same initial conditions\n",
    "x_1_0 = 1.\n",
    "x_dot_1_0 = .2\n",
    "y_1_0 = 1.\n",
    "y_dot_1_0 = -.2\n",
    "x_2_0 = 2.\n",
    "x_dot_2_0 = -(m_1/m_2)*x_dot_1_0\n",
    "y_2_0 = 2.\n",
    "y_dot_2_0 = -(m_1/m_2)*y_dot_1_0\n",
    "x_1, x_1_dot,y_1,y_1_dot,x_2,x_2_dot,y_2,y_2_dot = orbit1.solve_ode(t_pts, x_1_0, x_dot_1_0,y_1_0, y_dot_1_0,x_2_0, x_dot_2_0,y_2_0, y_dot_2_0)\n",
    "\n",
    "\n",
    "# start the plot!\n",
    "fig = plt.figure(figsize=(8,8))\n",
    "overall_title = 'Two Body Orbit Problem Using Lagrangian:  ' + \\\n",
    "                '\\n'     # \\n means a new line (adds some space here)\n",
    "fig.suptitle(overall_title, va='baseline')\n",
    "    \n",
    "# first plot: First body orbit plot \n",
    "ax_a = fig.add_subplot(1,1,1)                  \n",
    "\n",
    "start, stop = start_stop_indices(t_pts, t_start, t_end)    \n",
    "plot_y_vs_x(x_1[start : stop], y_1[start : stop], \n",
    "            axis_labels=x_vs_y_labels, \n",
    "            color='blue',\n",
    "            label='First Mass', \n",
    "            title='Orbit', \n",
    "            ax=ax_a)    \n",
    "                              \n",
    "# second plot: second body orbit  plot                 \n",
    "\n",
    "start, stop = start_stop_indices(t_pts, t_start, t_end)    \n",
    "plot_y_vs_x(x_2[start : stop], y_2[start : stop], \n",
    "            axis_labels=x_vs_y_labels, \n",
    "            color='red',\n",
    "            label='Second Mass', \n",
    "            title='Orbit', \n",
    "            ax=ax_a)    \n",
    "\n",
    "ax_a.set_aspect(1)"
   ]
  },
  {
   "cell_type": "markdown",
   "metadata": {},
   "source": [
    "Now let us choose one mass much heavier than the other and we are in the rest frame so that the orbit reduces to that discussed in class."
   ]
  },
  {
   "cell_type": "code",
   "execution_count": 68,
   "metadata": {},
   "outputs": [],
   "source": [
    "#We must ensure we are in the rest frame.\n",
    "m_1 = 1000.\n",
    "m_2 = 1.\n",
    "x_1_0 = 1.\n",
    "x_dot_1_0 = .02\n",
    "y_1_0 = 1.\n",
    "y_dot_1_0 = -.02\n",
    "x_2_0 = 2.\n",
    "x_dot_2_0 = -(m_1/m_2)*x_dot_1_0\n",
    "y_2_0 = 2.\n",
    "y_dot_2_0 = -(m_1/m_2)*y_dot_1_0\n",
    "#Reinstantiate a second orbit\n",
    "orbit2 = LagrangianTwoBody(G=G, m_1=m_1,m_2 = m_2)\n",
    "x_1, x_1_dot,y_1,y_1_dot,x_2,x_2_dot,y_2,y_2_dot = orbit2.solve_ode(t_pts, x_1_0, x_dot_1_0,y_1_0, y_dot_1_0,x_2_0, x_dot_2_0,y_2_0, y_dot_2_0)\n"
   ]
  },
  {
   "cell_type": "code",
   "execution_count": 69,
   "metadata": {},
   "outputs": [
    {
     "data": {
      "image/png": "[encoded data removed]",
      "text/plain": [
       "<Figure size 800x800 with 1 Axes>"
      ]
     },
     "metadata": {
      "needs_background": "light"
     },
     "output_type": "display_data"
    }
   ],
   "source": [
    "# start the plot!\n",
    "fig = plt.figure(figsize=(8,8))\n",
    "overall_title = 'Two Body Orbit Problem Using Lagrangian:  ' + \\\n",
    "                '\\n'     # \\n means a new line (adds some space here)\n",
    "fig.suptitle(overall_title, va='baseline')\n",
    "    \n",
    "# first plot: First body orbit plot \n",
    "ax_a = fig.add_subplot(1,1,1)                  \n",
    "\n",
    "start, stop = start_stop_indices(t_pts, t_start, t_end)    \n",
    "plot_y_vs_x(x_1[start : stop], y_1[start : stop], \n",
    "            axis_labels=x_vs_y_labels, \n",
    "            color='blue',\n",
    "            label='First Mass', \n",
    "            title='Orbit', \n",
    "            ax=ax_a)    \n",
    "                              \n",
    "# second plot: second body orbit  plot                 \n",
    "\n",
    "start, stop = start_stop_indices(t_pts, t_start, t_end)    \n",
    "plot_y_vs_x(x_2[start : stop], y_2[start : stop], \n",
    "            axis_labels=x_vs_y_labels, \n",
    "            color='red',\n",
    "            label='Second Mass', \n",
    "            title='Orbit', \n",
    "            ax=ax_a)   \n",
    "ax_a.set_aspect(1)"
   ]
  },
  {
   "cell_type": "code",
   "execution_count": null,
   "metadata": {},
   "outputs": [],
   "source": []
  }
 ],
 "metadata": {
  "kernelspec": {
   "display_name": "Python 3",
   "language": "python",
   "name": "python3"
  },
  "language_info": {
   "codemirror_mode": {
    "name": "ipython",
    "version": 3
   },
   "file_extension": ".py",
   "mimetype": "text/x-python",
   "name": "python",
   "nbconvert_exporter": "python",
   "pygments_lexer": "ipython3",
   "version": "3.7.1"
  }
 },
 "nbformat": 4,
 "nbformat_minor": 2
}
